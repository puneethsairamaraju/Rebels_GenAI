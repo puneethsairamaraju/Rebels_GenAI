{
 "cells": [
  {
   "cell_type": "markdown",
   "metadata": {},
   "source": [
    "\n",
    "\n"
   ]
  },
  {
   "cell_type": "markdown",
   "metadata": {},
   "source": [
    "# Zero-Shot Prompting\n",
    "\n",
    "Zero-shot prompting refers to a technique in prompt engineering where you provide a model with a task without any prior examples. The model is expected to understand and generate a response or complete the task purely based on the given instruction.\n",
    "\n",
    "In other words, the model is given \"zero\" prior training examples or demonstrations in the prompt and relies on its pre-trained knowledge to infer what is needed.\n",
    "\n",
    "## References:\n",
    "* [Wei et al. (2022)](https://arxiv.org/pdf/2109.01652.pdf): demonstrate how instruction tuning improves zero-shot learning "
   ]
  },
  {
   "cell_type": "markdown",
   "metadata": {},
   "source": [
    "## Running this code on MyBind.org\n",
    "\n",
    "Note: remember that you will need to **adjust CONFIG** with **proper URL and API_KEY**!\n",
    "\n",
    "[![Binder](https://mybinder.org/badge_logo.svg)](https://mybinder.org/v2/gh/GenILab-FAU/prompt-eng/HEAD?urlpath=%2Fdoc%2Ftree%2Fprompt-eng%2Fzero_shot.ipynb)\n",
    "\n"
   ]
  },
  {
   "cell_type": "code",
   "execution_count": 6,
   "metadata": {},
   "outputs": [
    {
     "name": "stdout",
     "output_type": "stream",
     "text": [
      "{'model': 'llama3.2:latest', 'prompt': '\\nProvide a Python implementation for the following Data Structure concept:\\n\\nWrite a Python implementation of Binary Search Tree (BST) with insert and search functions.\\n\\nEnsure the code is well-structured, includes comments for clarity, and follows best practices.\\n', 'stream': False, 'options': {'temperature': 0.7, 'num_ctx': 300, 'num_predict': 300}}\n",
      "class Node:\n",
      "    \"\"\"Represents a single node in the Binary Search Tree.\"\"\"\n",
      "    \n",
      "    def __init__(self, value):\n",
      "        # Initialize the node with a given value\n",
      "        self.value = value\n",
      "        # Initialize left and right children as None\n",
      "        self.left = None\n",
      "        self.right = None\n",
      "\n",
      "\n",
      "class BinarySearchTree:\n",
      "    \"\"\"Represents a Binary Search Tree.\"\"\"\n",
      "    \n",
      "    def __init__(self):\n",
      "        # Initialize an empty tree\n",
      "        self.root = None\n",
      "\n",
      "    def insert(self, value):\n",
      "        \"\"\"Inserts a new node with the given value into the tree.\"\"\"\n",
      "        \n",
      "        # Create a new node\n",
      "        new_node = Node(value)\n",
      "        \n",
      "        # If the tree is empty, set the new node as the root\n",
      "        if not self.root:\n",
      "            self.root = new_node\n",
      "            return\n",
      "        \n",
      "        # Start at the root and traverse down the tree\n",
      "        current_node = self.root\n",
      "        while True:\n",
      "            # If the value is less than the current node's value, go to the left subtree\n",
      "            if value < current_node.value:\n",
      "                if not current_node.left:\n",
      "                    current_node.left = new_node\n",
      "                    return\n",
      "                current_node = current_node.left\n",
      "            # If the value is greater than the current node's value, go to the right subtree\n",
      "            elif value > current_node.value:\n",
      "                if not current_node.right:\n",
      "                    current_node.right = new_node\n",
      "                    return\n",
      "                current_node = current_node.right\n",
      "           \n",
      "Time taken: 35.999s\n"
     ]
    }
   ],
   "source": [
    "##\n",
    "## ZERO-SHOT PROMPTING FOR DSA CODE GENERATION\n",
    "##\n",
    "\n",
    "from _pipeline import create_payload, model_req\n",
    "\n",
    "#### (1) Adjust the inbounding Prompt, simulating inbounding requests from users or other systems\n",
    "MESSAGE = \"Write a Python implementation of Binary Search Tree (BST) with insert and search functions.\"\n",
    "\n",
    "#### (2) Adjust the Prompt Engineering Technique to be applied, simulating Workflow Templates\n",
    "\n",
    "PROMPT = f\"\"\"\n",
    "Provide a Python implementation for the following Data Structure concept:\n",
    "\n",
    "{MESSAGE}\n",
    "\n",
    "Ensure the code is well-structured, includes comments for clarity, and follows best practices.\n",
    "\"\"\"\n",
    "\n",
    "#### (3) Configure the Model request, simulating Workflow Orchestration\n",
    "# Documentation: https://github.com/ollama/ollama/blob/main/docs/api.md\n",
    "payload = create_payload(target=\"ollama\",\n",
    "                         model=\"llama3.2:latest\", \n",
    "                         prompt=PROMPT, \n",
    "                         temperature=0.7,  # Slightly lower temp for more deterministic responses\n",
    "                         num_ctx=300,  # Increased context for longer code responses\n",
    "                         num_predict=300)\n",
    "\n",
    "### YOU DON’T NEED TO CONFIGURE ANYTHING ELSE FROM THIS POINT\n",
    "# Send out to the model\n",
    "time, response = model_req(payload=payload)\n",
    "print(response)\n",
    "if time: print(f'Time taken: {time}s')\n"
   ]
  },
  {
   "cell_type": "markdown",
   "metadata": {},
   "source": [
    "---\n",
    "\n",
    "## How to improve it?\n",
    "\n",
    "* **Use Clear and Concise Instructions**: Be specific about the task and desired format.\n",
    "    * Bad Prompt: “Summarize this.”\n",
    "    * Good Prompt: “Summarize this paragraph in one sentence.”\n",
    "* **Add Context**: Providing background can help the model interpret ambiguous prompts better.\n",
    "* **Specify Output Format**: If a particular structure is needed, describe it in the instruction."
   ]
  }
 ],
 "metadata": {
  "kernelspec": {
   "display_name": "base",
   "language": "python",
   "name": "python3"
  },
  "language_info": {
   "codemirror_mode": {
    "name": "ipython",
    "version": 3
   },
   "file_extension": ".py",
   "mimetype": "text/x-python",
   "name": "python",
   "nbconvert_exporter": "python",
   "pygments_lexer": "ipython3",
   "version": "3.11.5"
  }
 },
 "nbformat": 4,
 "nbformat_minor": 2
}
