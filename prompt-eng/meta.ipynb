{
 "cells": [
  {
   "cell_type": "markdown",
   "metadata": {},
   "source": [
    "\n",
    "\n"
   ]
  },
  {
   "cell_type": "markdown",
   "metadata": {},
   "source": [
    "# Meta Prompting\n",
    "\n",
    "Meta prompting is an advanced technique in prompt engineering that emphasizes the structural and syntactical organization of tasks and problems rather than focusing on their specific content. The objective is to create a more abstract, form-driven way of engaging with large language models (LLMs), highlighting patterns and structure over traditional content-focused methods.\n",
    "\n",
    "As outlined by [Zhang et al. (2024)](https://arxiv.org/abs/2311.11482), the defining features of meta prompting include:\n",
    "\n",
    "* Structure-Oriented: Prioritizes the organization and pattern of problems and solutions instead of specific content.\n",
    "* Syntax-Guided: Leverages syntax as a template to shape the expected responses or solutions.\n",
    "* Abstract Frameworks: Uses abstract examples as blueprints, demonstrating the structure of tasks without relying on concrete details.\n",
    "* Domain Versatility: Can be applied across multiple fields, offering structured solutions to diverse problem types.\n",
    "* Categorical Approach: Draws on type theory to organize and categorize components logically, enhancing prompt coherence and precision."
   ]
  },
  {
   "cell_type": "markdown",
   "metadata": {},
   "source": [
    "## Running this code on MyBind.org\n",
    "\n",
    "Note: remember that you will need to **adjust CONFIG** with **proper URL and API_KEY**!\n",
    "\n",
    "[![Binder](https://mybinder.org/badge_logo.svg)](https://mybinder.org/v2/gh/GenILab-FAU/prompt-eng/HEAD?urlpath=%2Fdoc%2Ftree%2Fprompt-eng%2Fmeta.ipynb)\n",
    "\n"
   ]
  },
  {
   "cell_type": "code",
   "execution_count": 3,
   "metadata": {},
   "outputs": [
    {
     "name": "stdout",
     "output_type": "stream",
     "text": [
      "{'model': 'llama3.2:latest', 'prompt': '\\nYou are an advanced AI specialized in Data Structures and Algorithms (DSA). \\nYou provide precise and structured answers to DSA-related queries, ensuring clarity for learners.\\n\\nYour response should follow this structure:\\n1. **Definition:** Provide a clear explanation.\\n2. **Example:** Show an example for better understanding.\\n3. **Use Cases:** Mention real-world applications.\\n4. **Time Complexity:** If applicable, include it.\\n\\nNow, answer the following question in this structured manner.\\n\\nWhat is an array?', 'stream': False, 'options': {'temperature': 1.0, 'num_ctx': 300, 'num_predict': 300}}\n",
      "**1. Definition:**\n",
      "An array is a data structure that stores a collection of elements of the same data type in contiguous memory locations. It's a linear collection of elements of the same type, allowing for efficient indexing and storage of data.\n",
      "\n",
      "**2. Example:**\n",
      "\n",
      "Suppose we have an array `numbers` to store integers from 1 to 10:\n",
      "\n",
      "```python\n",
      "numbers = [1, 2, 3, 4, 5, 6, 7, 8, 9, 10]\n",
      "```\n",
      "\n",
      "In this example, the numbers are stored in contiguous memory locations, and we can access each element using its index (position) in the array.\n",
      "\n",
      "**3. Use Cases:**\n",
      "\n",
      "Arrays have numerous applications in:\n",
      "\n",
      "* Data storage and retrieval\n",
      "* Scientific computing (e.g., storing matrix elements)\n",
      "* Game development (for graphics and animation)\n",
      "* Database indexing\n",
      "\n",
      "**4. Benefits of Arrays:**\n",
      "\n",
      "* Fast access to elements using their index\n",
      "* Efficient use of memory for large datasets\n",
      "* Simple and intuitive programming model\n",
      "\n",
      "However, arrays also have some limitations, such as:\n",
      "\n",
      "* Fixed size: once an array is created, its size cannot be changed\n",
      "* Indexing: errors can occur if an invalid index is used\n",
      "\n",
      "In many cases, other data structures like linked lists, trees, or matrices provide better solutions for specific use cases.\n",
      "Time taken: 33.31s\n"
     ]
    }
   ],
   "source": [
    "##\n",
    "## META PROMPTING FOR DSA\n",
    "##\n",
    "\n",
    "from _pipeline import create_payload, model_req\n",
    "\n",
    "#### (1) Adjust the inbounding Prompt, simulating inbounding requests from users or other systems\n",
    "MESSAGE = \"What is an array?\"\n",
    "\n",
    "#### (2) Adjust the Prompt Engineering Technique to be applied, simulating Workflow Templates\n",
    "\n",
    "META_PROMPT = \\\n",
    "\"\"\"\n",
    "You are an advanced AI specialized in Data Structures and Algorithms (DSA). \n",
    "You provide precise and structured answers to DSA-related queries, ensuring clarity for learners.\n",
    "\n",
    "Your response should follow this structure:\n",
    "1. **Definition:** Provide a clear explanation.\n",
    "2. **Example:** Show an example for better understanding.\n",
    "3. **Use Cases:** Mention real-world applications.\n",
    "4. **Time Complexity:** If applicable, include it.\n",
    "\n",
    "Now, answer the following question in this structured manner.\n",
    "\"\"\"\n",
    "\n",
    "PROMPT = META_PROMPT + '\\n' + MESSAGE\n",
    "\n",
    "#### (3) Configure the Model request, simulating Workflow Orchestration\n",
    "# Documentation: https://github.com/ollama/ollama/blob/main/docs/api.md\n",
    "payload = create_payload(target=\"ollama\",\n",
    "                         model=\"llama3.2:latest\", \n",
    "                         prompt=PROMPT, \n",
    "                         temperature=1.0, \n",
    "                         num_ctx=300, \n",
    "                         num_predict=300)\n",
    "\n",
    "### YOU DON’T NEED TO CONFIGURE ANYTHING ELSE FROM THIS POINT\n",
    "# Send out to the model\n",
    "time, response = model_req(payload=payload)\n",
    "print(response)\n",
    "if time: print(f'Time taken: {time}s')\n"
   ]
  }
 ],
 "metadata": {
  "kernelspec": {
   "display_name": "base",
   "language": "python",
   "name": "python3"
  },
  "language_info": {
   "codemirror_mode": {
    "name": "ipython",
    "version": 3
   },
   "file_extension": ".py",
   "mimetype": "text/x-python",
   "name": "python",
   "nbconvert_exporter": "python",
   "pygments_lexer": "ipython3",
   "version": "3.11.5"
  }
 },
 "nbformat": 4,
 "nbformat_minor": 2
}
