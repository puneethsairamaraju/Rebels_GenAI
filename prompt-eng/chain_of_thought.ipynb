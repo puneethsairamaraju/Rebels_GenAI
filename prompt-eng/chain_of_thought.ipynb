{
 "cells": [
  {
   "cell_type": "markdown",
   "metadata": {},
   "source": [
    "\n",
    "\n"
   ]
  },
  {
   "cell_type": "markdown",
   "metadata": {},
   "source": [
    "# Chain-of-Thought Prompting\n",
    "\n",
    "Chain-of-Thought (CoT) prompting enhances complex reasoning by encouraging the model to break down problems into intermediate reasoning steps. When combined with few-shot prompting, it can significantly improve performance on tasks that require multi-step reasoning before arriving at a response.\n",
    "\n",
    "## Automatic Chain-of-Thought (Auto-CoT)\n",
    "\n",
    "Traditionally, using CoT prompting with demonstrations involves manually crafting diverse and effective examples. This manual effort is time-consuming and can lead to less-than-optimal results. To address this, Zhang et al. (2022) introduced Auto-CoT, an automated approach that minimizes manual involvement. Their method uses the prompt “Let’s think step by step” to generate reasoning chains automatically for demonstrations. However, this automatic process is not immune to errors. To reduce the impact of such mistakes, the approach emphasizes the importance of diverse demonstrations.\n",
    "\n",
    "Auto-CoT operates in two main stages:\n",
    "\n",
    "1. **Question Clustering:** Questions from the dataset are grouped into clusters based on similarity or relevance.\n",
    "2. **Demonstration Sampling:** A representative question from each cluster is selected, and its reasoning chain is generated using Zero-Shot-CoT guided by simple heuristics.\n",
    "\n",
    "\n",
    "## References:\n",
    "\n",
    "* (Wei et al. (2022),)[https://arxiv.org/abs/2201.11903]\n",
    "* (OpenAI Documentation for Prompt Engineering)[https://platform.openai.com/docs/guides/prompt-engineering]"
   ]
  },
  {
   "cell_type": "markdown",
   "metadata": {},
   "source": [
    "## Running this code on MyBind.org\n",
    "\n",
    "Note: remember that you will need to **adjust CONFIG** with **proper URL and API_KEY**!\n",
    "\n",
    "[![Binder](https://mybinder.org/badge_logo.svg)](https://mybinder.org/v2/gh/GenILab-FAU/prompt-eng/HEAD?urlpath=%2Fdoc%2Ftree%2Fprompt-eng%2Fchain_of_thought.ipynb)\n"
   ]
  },
  {
   "cell_type": "code",
   "execution_count": 1,
   "metadata": {},
   "outputs": [
    {
     "name": "stdout",
     "output_type": "stream",
     "text": [
      "{'model': 'llama3.2:latest', 'prompt': '\\nUnderstanding About binary search tree in Data Structures and Algorithms:\\n\\n1. **Definition:** What is About binary search tree?\\n2. **Working Mechanism:** How does About binary search tree work?\\n3. **Time Complexity:** What is the time complexity of About binary search tree?\\n4. **Example Execution:** Can you provide a sample execution of About binary search tree?\\n\\nExample Execution of About binary search tree:\\n```python\\n# Sample Python implementation of About binary search tree\\ndef example_about binary search tree():\\n    # Example code for understanding About binary search tree\\n    arr = [64, 34, 25, 12, 22, 11, 90]\\n    print(\"Initial Array:\", arr)\\n    # Algorithm execution (pseudo-code or real implementation)\\n    # ...\\n    print(\"Sorted Array:\", arr)\\n\\nexample_about binary search tree()\\n```\\n\\n5. **Pros and Cons:** What are the advantages and disadvantages of About binary search tree?\\n\\nLet\\'s go through these step by step for better understanding.\\n', 'stream': False, 'options': {'temperature': 1.0, 'num_ctx': 300, 'num_predict': 300}}\n",
      "\n",
      "Response:\n",
      " I'll guide you through each step to understand Binary Search Trees (BST) in data structures and algorithms.\n",
      "\n",
      "**1. Definition:**\n",
      "A Binary Search Tree (BST) is a data structure where each node has at most two children (left child and right child) and for any given node, all elements in the left subtree are smaller than the node, and all elements in the right subtree are greater than the node. This ordering allows for efficient searching, insertion, and deletion of nodes.\n",
      "\n",
      "**2. How it Works:**\n",
      "\n",
      "*   The root node is at the top of the tree.\n",
      "*   Each node has a value (key).\n",
      "*   All values to the left of a node are smaller than its key.\n",
      "*   All values to the right of a node are greater than its key.\n",
      "*   For any given node, all elements in the left subtree and right subtree are also ordered similarly.\n",
      "\n",
      "Here's an example to illustrate this:\n",
      "\n",
      "```\n",
      "      8\n",
      "    /   \\\n",
      "   3     10\n",
      " / \\       / \\\n",
      "1   6     9   14\n",
      "       /  \\\n",
      "       7   12\n",
      "```\n",
      "\n",
      "In the above tree, the values are ordered as follows: `1 < 3 < 6 < 8 < 9 < 10 < 12 < 14`.\n",
      "\n",
      "**3. Operations in a Binary Search Tree (BST):**\n",
      "\n",
      "*   **Search:** Traverse up from the leaf node until the root is\n",
      "\n",
      "Time taken: 41.468s\n"
     ]
    }
   ],
   "source": [
    "from _pipeline import create_payload, model_req\n",
    "\n",
    "#### (1) User Input for Dynamic Interaction\n",
    "MESSAGE = \"About binary search tree\"\n",
    "\n",
    "#### (2) Basic Question-Answer Interaction for Key DSA Topics\n",
    "CHAIN_OF_THOUGHT = \\\n",
    "f\"\"\"\n",
    "Understanding {MESSAGE} in Data Structures and Algorithms:\n",
    "\n",
    "1. **Definition:** What is {MESSAGE}?\n",
    "2. **Working Mechanism:** How does {MESSAGE} work?\n",
    "3. **Time Complexity:** What is the time complexity of {MESSAGE}?\n",
    "4. **Example Execution:** Can you provide a sample execution of {MESSAGE}?\n",
    "\n",
    "Example Execution of {MESSAGE}:\n",
    "```python\n",
    "# Sample Python implementation of {MESSAGE}\n",
    "def example_{MESSAGE.lower()}():\n",
    "    # Example code for understanding {MESSAGE}\n",
    "    arr = [64, 34, 25, 12, 22, 11, 90]\n",
    "    print(\"Initial Array:\", arr)\n",
    "    # Algorithm execution (pseudo-code or real implementation)\n",
    "    # ...\n",
    "    print(\"Sorted Array:\", arr)\n",
    "\n",
    "example_{MESSAGE.lower()}()\n",
    "```\n",
    "\n",
    "5. **Pros and Cons:** What are the advantages and disadvantages of {MESSAGE}?\n",
    "\n",
    "Let's go through these step by step for better understanding.\n",
    "\"\"\"\n",
    "\n",
    "PROMPT = CHAIN_OF_THOUGHT \n",
    "\n",
    "#### (3) Configure the Model request for interaction\n",
    "payload = create_payload(target=\"ollama\",\n",
    "                         model=\"llama3.2:latest\", \n",
    "                         prompt=PROMPT, \n",
    "                         temperature=1.0, \n",
    "                         num_ctx=300, \n",
    "                         num_predict=300)\n",
    "\n",
    "### Model Response Handling\n",
    "# Send request to the model\n",
    "response_time, response = model_req(payload=payload)\n",
    "print(\"\\nResponse:\\n\", response)\n",
    "if response_time:\n",
    "    print(f'\\nTime taken: {response_time}s')\n"
   ]
  }
 ],
 "metadata": {
  "kernelspec": {
   "display_name": "base",
   "language": "python",
   "name": "python3"
  },
  "language_info": {
   "codemirror_mode": {
    "name": "ipython",
    "version": 3
   },
   "file_extension": ".py",
   "mimetype": "text/x-python",
   "name": "python",
   "nbconvert_exporter": "python",
   "pygments_lexer": "ipython3",
   "version": "3.11.5"
  }
 },
 "nbformat": 4,
 "nbformat_minor": 2
}
