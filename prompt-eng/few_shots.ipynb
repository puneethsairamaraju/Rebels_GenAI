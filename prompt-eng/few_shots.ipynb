{
 "cells": [
  {
   "cell_type": "markdown",
   "metadata": {},
   "source": [
    "\n",
    "\n"
   ]
  },
  {
   "cell_type": "markdown",
   "metadata": {},
   "source": [
    "# Few-Shots Prompting\n",
    "\n",
    "Few-shot prompting can be used as a technique to enable in-context learning where we provide demonstrations in the prompt to steer the model to better performance. The demonstrations serve as conditioning for subsequent examples where we would like the model to generate a response.\n",
    "\n",
    "## References:\n",
    "* [Touvron et al. 2023](https://arxiv.org/pdf/2302.13971.pdf): present few shot properties  when models were scaled to a sufficient size\n",
    "* [Kaplan et al., 2020](https://arxiv.org/abs/2001.08361)\n",
    "* [Brown et al. 2020](https://arxiv.org/abs/2005.14165)\n"
   ]
  },
  {
   "cell_type": "markdown",
   "metadata": {},
   "source": [
    "## Running this code on MyBind.org\n",
    "\n",
    "Note: remember that you will need to **adjust CONFIG** with **proper URL and API_KEY**!\n",
    "\n",
    "[![Binder](https://mybinder.org/badge_logo.svg)](https://mybinder.org/v2/gh/GenILab-FAU/prompt-eng/HEAD?urlpath=%2Fdoc%2Ftree%2Fprompt-eng%2Ffew_shots.ipynb)\n",
    "\n"
   ]
  },
  {
   "cell_type": "code",
   "execution_count": 5,
   "metadata": {},
   "outputs": [
    {
     "name": "stdout",
     "output_type": "stream",
     "text": [
      "{'model': 'llama3.2:latest', 'prompt': '\\nYou are an expert in Data Structures and Algorithms (DSA). You provide structured and concise explanations. \\n\\nExample 1:\\nUser: Explain Bubble Sort.\\nBot: Bubble Sort is a simple sorting algorithm that repeatedly swaps adjacent elements if they are in the wrong order.\\nExample:\\nInput: [5, 3, 8, 4, 2]\\nPass 1: [3, 5, 4, 2, 8]\\nPass 2: [3, 4, 2, 5, 8]\\nPass 3: [3, 2, 4, 5, 8]\\nPass 4: [2, 3, 4, 5, 8]\\nFinal Output: [2, 3, 4, 5, 8]\\nTime Complexity: O(n²)\\n\\nExample 2:\\nUser: Explain Quick Sort.\\nBot: Quick Sort is a divide-and-conquer sorting algorithm. It picks a pivot, partitions the array, and sorts recursively.\\nExample:\\nInput: [5, 3, 8, 4, 2]\\nPivot: 4\\nLeft: [3, 2] | Pivot: 4 | Right: [5, 8]\\nSorted Left: [2, 3]\\nSorted Right: [5, 8]\\nFinal Output: [2, 3, 4, 5, 8]\\nTime Complexity: O(n log n)\\n\\nUser asked; provide the response only:\\n\\nExplain Merge Sort with an example', 'stream': False, 'options': {'temperature': 1.0, 'num_ctx': 300, 'num_predict': 300}}\n",
      "Merge Sort is a divide-and-conquer algorithm that splits an array into two halves, recursively sorts them, and merges them.\n",
      "\n",
      "Example:\n",
      "Input: [9, 4, 6, 3, 2, 5, 1]\n",
      "Split into two halves: [9, 4, 6] and [3, 2, 5, 1]\n",
      "Sorted Left: [3, 4, 6]\n",
      "Sorted Right: [1, 2, 5]\n",
      "Merged Output: [1, 2, 3, 4, 5, 6]\n",
      "Time Complexity: O(n log n)\n",
      "Time taken: 23.005s\n"
     ]
    }
   ],
   "source": [
    "##\n",
    "## FEW-SHOT PROMPTING FOR DSA\n",
    "##\n",
    "\n",
    "from _pipeline import create_payload, model_req\n",
    "\n",
    "#### (1) Adjust the inbounding Prompt, simulating inbounding requests from users or other systems\n",
    "MESSAGE = \"Explain Merge Sort with an example\"\n",
    "\n",
    "#### (2) Adjust the Prompt Engineering Technique to be applied, simulating Workflow Templates\n",
    "FEW_SHOT = \\\n",
    "\"\"\"\n",
    "You are an expert in Data Structures and Algorithms (DSA). You provide structured and concise explanations. \n",
    "\n",
    "Example 1:\n",
    "User: Explain Bubble Sort.\n",
    "Bot: Bubble Sort is a simple sorting algorithm that repeatedly swaps adjacent elements if they are in the wrong order.\n",
    "Example:\n",
    "Input: [5, 3, 8, 4, 2]\n",
    "Pass 1: [3, 5, 4, 2, 8]\n",
    "Pass 2: [3, 4, 2, 5, 8]\n",
    "Pass 3: [3, 2, 4, 5, 8]\n",
    "Pass 4: [2, 3, 4, 5, 8]\n",
    "Final Output: [2, 3, 4, 5, 8]\n",
    "Time Complexity: O(n²)\n",
    "\n",
    "Example 2:\n",
    "User: Explain Quick Sort.\n",
    "Bot: Quick Sort is a divide-and-conquer sorting algorithm. It picks a pivot, partitions the array, and sorts recursively.\n",
    "Example:\n",
    "Input: [5, 3, 8, 4, 2]\n",
    "Pivot: 4\n",
    "Left: [3, 2] | Pivot: 4 | Right: [5, 8]\n",
    "Sorted Left: [2, 3]\n",
    "Sorted Right: [5, 8]\n",
    "Final Output: [2, 3, 4, 5, 8]\n",
    "Time Complexity: O(n log n)\n",
    "\n",
    "User asked; provide the response only:\n",
    "\"\"\"\n",
    "PROMPT = FEW_SHOT + '\\n' + MESSAGE\n",
    "\n",
    "#### (3) Configure the Model request, simulating Workflow Orchestration\n",
    "# Documentation: https://github.com/ollama/ollama/blob/main/docs/api.md\n",
    "payload = create_payload(target=\"ollama\",\n",
    "                         model=\"llama3.2:latest\", \n",
    "                         prompt=PROMPT, \n",
    "                         temperature=1.0, \n",
    "                         num_ctx=300, \n",
    "                         num_predict=300)\n",
    "\n",
    "### YOU DON’T NEED TO CONFIGURE ANYTHING ELSE FROM THIS POINT\n",
    "# Send out to the model\n",
    "time, response = model_req(payload=payload)\n",
    "print(response)\n",
    "if time: print(f'Time taken: {time}s')\n"
   ]
  },
  {
   "cell_type": "markdown",
   "metadata": {},
   "source": [
    "## How to improve it?\n",
    "\n",
    "Following the findings from [Min et al. (2022)](https://arxiv.org/abs/2202.12837), here are a few more tips about demonstrations/exemplars when doing few-shot:\n",
    "\n",
    "* \"the label space and the distribution of the input text specified by the demonstrations are both important (regardless of whether the labels are correct for individual inputs)\"\n",
    "* the format you use also plays a key role in performance, even if you just use random labels, this is much better than no labels at all.\n",
    "* additional results show that selecting random labels from a true distribution of labels (instead of a uniform distribution) also helps."
   ]
  }
 ],
 "metadata": {
  "kernelspec": {
   "display_name": "base",
   "language": "python",
   "name": "python3"
  },
  "language_info": {
   "codemirror_mode": {
    "name": "ipython",
    "version": 3
   },
   "file_extension": ".py",
   "mimetype": "text/x-python",
   "name": "python",
   "nbconvert_exporter": "python",
   "pygments_lexer": "ipython3",
   "version": "3.11.5"
  }
 },
 "nbformat": 4,
 "nbformat_minor": 2
}
